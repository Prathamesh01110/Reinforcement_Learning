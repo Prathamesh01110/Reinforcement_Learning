{
 "cells": [
  {
   "cell_type": "code",
   "execution_count": 4,
   "id": "2cb06da8",
   "metadata": {},
   "outputs": [],
   "source": [
    "import gymnasium as gym \n",
    "from gymnasium import Env\n",
    "from gymnasium.spaces import Discrete, Box, Dict, Tuple, MultiBinary, MultiDiscrete\n",
    "\n",
    "import numpy as np \n",
    "import random \n",
    "import os\n",
    "\n",
    "from stable_baselines3 import PPO\n",
    "from stable_baselines3.common.vec_env import DummyVecEnv\n",
    "from stable_baselines3.common.evaluation import evaluate_policy"
   ]
  },
  {
   "cell_type": "code",
   "execution_count": 13,
   "id": "3ebf1753",
   "metadata": {},
   "outputs": [
    {
     "data": {
      "text/plain": [
       "np.int64(0)"
      ]
     },
     "execution_count": 13,
     "metadata": {},
     "output_type": "execute_result"
    }
   ],
   "source": [
    "Discrete(3).sample()"
   ]
  },
  {
   "cell_type": "code",
   "execution_count": 40,
   "id": "496f3356",
   "metadata": {},
   "outputs": [
    {
     "data": {
      "text/plain": [
       "array([[0.84923726, 0.21640626, 0.7197457 ],\n",
       "       [0.5919928 , 0.72793496, 0.8996949 ],\n",
       "       [0.67918146, 0.4627312 , 0.05154022]], dtype=float32)"
      ]
     },
     "execution_count": 40,
     "metadata": {},
     "output_type": "execute_result"
    }
   ],
   "source": [
    "Box(0,1, shape=(3,3)).sample()"
   ]
  },
  {
   "cell_type": "code",
   "execution_count": 41,
   "id": "fb5d8098",
   "metadata": {},
   "outputs": [
    {
     "data": {
      "text/plain": [
       "(np.int64(0),\n",
       " array([0.39772698, 0.5619476 , 0.916111  ], dtype=float32),\n",
       " array([0, 1, 1, 1], dtype=int8))"
      ]
     },
     "execution_count": 41,
     "metadata": {},
     "output_type": "execute_result"
    }
   ],
   "source": [
    "Tuple((Discrete(3),Box(0,1,shape=(3,)),MultiBinary(4))).sample()"
   ]
  },
  {
   "cell_type": "code",
   "execution_count": 42,
   "id": "a8aa92e7",
   "metadata": {},
   "outputs": [
    {
     "data": {
      "text/plain": [
       "{'color': array([0, 1, 0, 1], dtype=int8),\n",
       " 'heigth': np.int64(0),\n",
       " 'speed': array([99.5864], dtype=float32)}"
      ]
     },
     "execution_count": 42,
     "metadata": {},
     "output_type": "execute_result"
    }
   ],
   "source": [
    "Dict({'heigth':Discrete(2),\"speed\":Box(0,100, shape=(1,)),\"color\":MultiBinary(4)}).sample()"
   ]
  },
  {
   "cell_type": "code",
   "execution_count": 27,
   "id": "e13f73d8",
   "metadata": {},
   "outputs": [
    {
     "data": {
      "text/plain": [
       "array([1, 0, 0, 1], dtype=int8)"
      ]
     },
     "execution_count": 27,
     "metadata": {},
     "output_type": "execute_result"
    }
   ],
   "source": [
    "MultiBinary(4).sample()"
   ]
  },
  {
   "cell_type": "code",
   "execution_count": 47,
   "id": "53fcc7e8",
   "metadata": {},
   "outputs": [
    {
     "data": {
      "text/plain": [
       "array([4, 0, 0, 4])"
      ]
     },
     "execution_count": 47,
     "metadata": {},
     "output_type": "execute_result"
    }
   ],
   "source": [
    "MultiDiscrete([5,2,2,5]).sample()"
   ]
  },
  {
   "cell_type": "code",
   "execution_count": 96,
   "id": "de907ed7",
   "metadata": {},
   "outputs": [],
   "source": [
    "class ShowerEnv(Env):\n",
    "    def __init__(self):\n",
    "        self.action_space = Discrete(3)\n",
    "        self.observation_space = Box(low=np.array([0]), high=np.array([100]))\n",
    "        self.state = 38 + random.randint(-3, 3)\n",
    "        self.shower_length = 60\n",
    "\n",
    "    def step(self, action):\n",
    "        # apply temp adj\n",
    "        self.state += action - 1\n",
    "\n",
    "        # Decrease shower time\n",
    "        self.shower_length -= 1\n",
    "\n",
    "        # calculate reward\n",
    "        if 37 <= self.state <= 39:\n",
    "            reward = 1\n",
    "        else:\n",
    "            reward = -1\n",
    "\n",
    "        # ✅ changed: replaced `done` with `terminated` and `truncated`\n",
    "        terminated = self.shower_length <= 0\n",
    "        truncated = False  # not using truncation\n",
    "\n",
    "        info = {}\n",
    "\n",
    "        # ✅ changed: return 5 values\n",
    "        return np.array([self.state], dtype=np.float32), reward, terminated, truncated, info\n",
    "\n",
    "    def render(self):\n",
    "        pass\n",
    "\n",
    "    def reset(self, *, seed=None, options=None):\n",
    "        super().reset(seed=seed)\n",
    "        self.state = np.array([38 + random.randint(-3, 3)], dtype=np.float32)\n",
    "        self.shower_length = 60\n",
    "        return self.state, {}\n"
   ]
  },
  {
   "cell_type": "code",
   "execution_count": 97,
   "id": "0f10ec3d",
   "metadata": {},
   "outputs": [],
   "source": [
    "env = ShowerEnv()"
   ]
  },
  {
   "cell_type": "code",
   "execution_count": 98,
   "id": "eb245925",
   "metadata": {},
   "outputs": [
    {
     "data": {
      "text/plain": [
       "array([53.551777], dtype=float32)"
      ]
     },
     "execution_count": 98,
     "metadata": {},
     "output_type": "execute_result"
    }
   ],
   "source": [
    "env.observation_space.sample()"
   ]
  },
  {
   "cell_type": "code",
   "execution_count": 99,
   "id": "7e5aea3b",
   "metadata": {},
   "outputs": [
    {
     "data": {
      "text/plain": [
       "np.int64(0)"
      ]
     },
     "execution_count": 99,
     "metadata": {},
     "output_type": "execute_result"
    }
   ],
   "source": [
    "env.action_space.sample()"
   ]
  },
  {
   "cell_type": "code",
   "execution_count": 103,
   "id": "5fe7f998",
   "metadata": {},
   "outputs": [
    {
     "name": "stdout",
     "output_type": "stream",
     "text": [
      "Episode:1 Score:-60\n",
      "Episode:2 Score:-54\n",
      "Episode:3 Score:-52\n",
      "Episode:4 Score:-60\n",
      "Episode:5 Score:34\n"
     ]
    }
   ],
   "source": [
    "episodes = 5\n",
    "for episode in range(1, episodes + 1):\n",
    "    obs, _ = env.reset()\n",
    "    terminated = False\n",
    "    truncated = False\n",
    "    score = 0\n",
    "\n",
    "    while not (terminated or truncated):\n",
    "        env.render()\n",
    "        action = env.action_space.sample()\n",
    "        obs, reward, terminated, truncated, info = env.step(action)\n",
    "        score += reward\n",
    "\n",
    "    print('Episode:{} Score:{}'.format(episode, score))\n",
    "\n",
    "env.close()\n"
   ]
  },
  {
   "cell_type": "code",
   "execution_count": 101,
   "id": "0802fe70",
   "metadata": {},
   "outputs": [
    {
     "name": "stdout",
     "output_type": "stream",
     "text": [
      "Using cpu device\n",
      "Wrapping the env with a `Monitor` wrapper\n",
      "Wrapping the env in a DummyVecEnv.\n"
     ]
    }
   ],
   "source": [
    "log_path = os.path.join('Training','Logs')\n",
    "model = PPO('MlpPolicy',env, verbose=1, tensorboard_log=log_path)"
   ]
  },
  {
   "cell_type": "code",
   "execution_count": 105,
   "id": "dd76bb2f",
   "metadata": {},
   "outputs": [
    {
     "name": "stdout",
     "output_type": "stream",
     "text": [
      "Logging to Training/Logs/PPO_22\n",
      "---------------------------------\n",
      "| rollout/           |          |\n",
      "|    ep_len_mean     | 60       |\n",
      "|    ep_rew_mean     | -16.7    |\n",
      "| time/              |          |\n",
      "|    fps             | 2663     |\n",
      "|    iterations      | 1        |\n",
      "|    time_elapsed    | 0        |\n",
      "|    total_timesteps | 2048     |\n",
      "---------------------------------\n",
      "------------------------------------------\n",
      "| rollout/                |              |\n",
      "|    ep_len_mean          | 60           |\n",
      "|    ep_rew_mean          | -18.5        |\n",
      "| time/                   |              |\n",
      "|    fps                  | 1903         |\n",
      "|    iterations           | 2            |\n",
      "|    time_elapsed         | 2            |\n",
      "|    total_timesteps      | 4096         |\n",
      "| train/                  |              |\n",
      "|    approx_kl            | 0.0030421512 |\n",
      "|    clip_fraction        | 0.0274       |\n",
      "|    clip_range           | 0.2          |\n",
      "|    entropy_loss         | -0.551       |\n",
      "|    explained_variance   | 0.00011      |\n",
      "|    learning_rate        | 0.0003       |\n",
      "|    loss                 | 60.6         |\n",
      "|    n_updates            | 230          |\n",
      "|    policy_gradient_loss | -0.00123     |\n",
      "|    value_loss           | 105          |\n",
      "------------------------------------------\n",
      "------------------------------------------\n",
      "| rollout/                |              |\n",
      "|    ep_len_mean          | 60           |\n",
      "|    ep_rew_mean          | -16.8        |\n",
      "| time/                   |              |\n",
      "|    fps                  | 1655         |\n",
      "|    iterations           | 3            |\n",
      "|    time_elapsed         | 3            |\n",
      "|    total_timesteps      | 6144         |\n",
      "| train/                  |              |\n",
      "|    approx_kl            | 0.0030944198 |\n",
      "|    clip_fraction        | 0.0129       |\n",
      "|    clip_range           | 0.2          |\n",
      "|    entropy_loss         | -0.535       |\n",
      "|    explained_variance   | -0.00588     |\n",
      "|    learning_rate        | 0.0003       |\n",
      "|    loss                 | 65.1         |\n",
      "|    n_updates            | 240          |\n",
      "|    policy_gradient_loss | -0.000678    |\n",
      "|    value_loss           | 118          |\n",
      "------------------------------------------\n",
      "-------------------------------------------\n",
      "| rollout/                |               |\n",
      "|    ep_len_mean          | 60            |\n",
      "|    ep_rew_mean          | -15.1         |\n",
      "| time/                   |               |\n",
      "|    fps                  | 1608          |\n",
      "|    iterations           | 4             |\n",
      "|    time_elapsed         | 5             |\n",
      "|    total_timesteps      | 8192          |\n",
      "| train/                  |               |\n",
      "|    approx_kl            | 0.00020884979 |\n",
      "|    clip_fraction        | 0.00605       |\n",
      "|    clip_range           | 0.2           |\n",
      "|    entropy_loss         | -0.523        |\n",
      "|    explained_variance   | 0.000992      |\n",
      "|    learning_rate        | 0.0003        |\n",
      "|    loss                 | 49.9          |\n",
      "|    n_updates            | 250           |\n",
      "|    policy_gradient_loss | 0.000224      |\n",
      "|    value_loss           | 99.2          |\n",
      "-------------------------------------------\n",
      "------------------------------------------\n",
      "| rollout/                |              |\n",
      "|    ep_len_mean          | 60           |\n",
      "|    ep_rew_mean          | -5.06        |\n",
      "| time/                   |              |\n",
      "|    fps                  | 1579         |\n",
      "|    iterations           | 5            |\n",
      "|    time_elapsed         | 6            |\n",
      "|    total_timesteps      | 10240        |\n",
      "| train/                  |              |\n",
      "|    approx_kl            | 0.0021618004 |\n",
      "|    clip_fraction        | 0.0167       |\n",
      "|    clip_range           | 0.2          |\n",
      "|    entropy_loss         | -0.509       |\n",
      "|    explained_variance   | 0.00375      |\n",
      "|    learning_rate        | 0.0003       |\n",
      "|    loss                 | 48.3         |\n",
      "|    n_updates            | 260          |\n",
      "|    policy_gradient_loss | -0.000181    |\n",
      "|    value_loss           | 106          |\n",
      "------------------------------------------\n",
      "-------------------------------------------\n",
      "| rollout/                |               |\n",
      "|    ep_len_mean          | 60            |\n",
      "|    ep_rew_mean          | -7.8          |\n",
      "| time/                   |               |\n",
      "|    fps                  | 1558          |\n",
      "|    iterations           | 6             |\n",
      "|    time_elapsed         | 7             |\n",
      "|    total_timesteps      | 12288         |\n",
      "| train/                  |               |\n",
      "|    approx_kl            | 0.00074631255 |\n",
      "|    clip_fraction        | 0.00845       |\n",
      "|    clip_range           | 0.2           |\n",
      "|    entropy_loss         | -0.465        |\n",
      "|    explained_variance   | -0.000358     |\n",
      "|    learning_rate        | 0.0003        |\n",
      "|    loss                 | 55.3          |\n",
      "|    n_updates            | 270           |\n",
      "|    policy_gradient_loss | 0.000416      |\n",
      "|    value_loss           | 98.2          |\n",
      "-------------------------------------------\n",
      "------------------------------------------\n",
      "| rollout/                |              |\n",
      "|    ep_len_mean          | 60           |\n",
      "|    ep_rew_mean          | -8.66        |\n",
      "| time/                   |              |\n",
      "|    fps                  | 1546         |\n",
      "|    iterations           | 7            |\n",
      "|    time_elapsed         | 9            |\n",
      "|    total_timesteps      | 14336        |\n",
      "| train/                  |              |\n",
      "|    approx_kl            | 0.0015457717 |\n",
      "|    clip_fraction        | 0.0274       |\n",
      "|    clip_range           | 0.2          |\n",
      "|    entropy_loss         | -0.418       |\n",
      "|    explained_variance   | -0.000503    |\n",
      "|    learning_rate        | 0.0003       |\n",
      "|    loss                 | 43.2         |\n",
      "|    n_updates            | 280          |\n",
      "|    policy_gradient_loss | -0.00129     |\n",
      "|    value_loss           | 96.8         |\n",
      "------------------------------------------\n",
      "------------------------------------------\n",
      "| rollout/                |              |\n",
      "|    ep_len_mean          | 60           |\n",
      "|    ep_rew_mean          | -6.4         |\n",
      "| time/                   |              |\n",
      "|    fps                  | 1538         |\n",
      "|    iterations           | 8            |\n",
      "|    time_elapsed         | 10           |\n",
      "|    total_timesteps      | 16384        |\n",
      "| train/                  |              |\n",
      "|    approx_kl            | 0.0019134597 |\n",
      "|    clip_fraction        | 0.0197       |\n",
      "|    clip_range           | 0.2          |\n",
      "|    entropy_loss         | -0.382       |\n",
      "|    explained_variance   | -0.00322     |\n",
      "|    learning_rate        | 0.0003       |\n",
      "|    loss                 | 65.2         |\n",
      "|    n_updates            | 290          |\n",
      "|    policy_gradient_loss | -0.0013      |\n",
      "|    value_loss           | 128          |\n",
      "------------------------------------------\n",
      "------------------------------------------\n",
      "| rollout/                |              |\n",
      "|    ep_len_mean          | 60           |\n",
      "|    ep_rew_mean          | -7.16        |\n",
      "| time/                   |              |\n",
      "|    fps                  | 1531         |\n",
      "|    iterations           | 9            |\n",
      "|    time_elapsed         | 12           |\n",
      "|    total_timesteps      | 18432        |\n",
      "| train/                  |              |\n",
      "|    approx_kl            | 0.0010316361 |\n",
      "|    clip_fraction        | 0.00327      |\n",
      "|    clip_range           | 0.2          |\n",
      "|    entropy_loss         | -0.358       |\n",
      "|    explained_variance   | 0.0286       |\n",
      "|    learning_rate        | 0.0003       |\n",
      "|    loss                 | 53.5         |\n",
      "|    n_updates            | 300          |\n",
      "|    policy_gradient_loss | -0.000557    |\n",
      "|    value_loss           | 90.8         |\n",
      "------------------------------------------\n",
      "-------------------------------------------\n",
      "| rollout/                |               |\n",
      "|    ep_len_mean          | 60            |\n",
      "|    ep_rew_mean          | -7.32         |\n",
      "| time/                   |               |\n",
      "|    fps                  | 1517          |\n",
      "|    iterations           | 10            |\n",
      "|    time_elapsed         | 13            |\n",
      "|    total_timesteps      | 20480         |\n",
      "| train/                  |               |\n",
      "|    approx_kl            | 0.00081435253 |\n",
      "|    clip_fraction        | 0.00122       |\n",
      "|    clip_range           | 0.2           |\n",
      "|    entropy_loss         | -0.34         |\n",
      "|    explained_variance   | -0.0384       |\n",
      "|    learning_rate        | 0.0003        |\n",
      "|    loss                 | 58.7          |\n",
      "|    n_updates            | 310           |\n",
      "|    policy_gradient_loss | 3.54e-05      |\n",
      "|    value_loss           | 114           |\n",
      "-------------------------------------------\n"
     ]
    },
    {
     "data": {
      "text/plain": [
       "<stable_baselines3.ppo.ppo.PPO at 0x7ff44e9dd660>"
      ]
     },
     "execution_count": 105,
     "metadata": {},
     "output_type": "execute_result"
    }
   ],
   "source": [
    "model.learn(total_timesteps=20000)"
   ]
  },
  {
   "cell_type": "code",
   "execution_count": 106,
   "id": "6adfb2e6",
   "metadata": {},
   "outputs": [],
   "source": [
    "shower_path = os.path.join('Training','Saved Models','Shower_model_ppo')"
   ]
  },
  {
   "cell_type": "code",
   "execution_count": 107,
   "id": "78feb64c",
   "metadata": {},
   "outputs": [],
   "source": [
    "model.save(shower_path)"
   ]
  },
  {
   "cell_type": "code",
   "execution_count": 108,
   "id": "fd2b4750",
   "metadata": {},
   "outputs": [],
   "source": [
    "del model"
   ]
  },
  {
   "cell_type": "code",
   "execution_count": 109,
   "id": "7e370d17",
   "metadata": {},
   "outputs": [
    {
     "name": "stdout",
     "output_type": "stream",
     "text": [
      "Wrapping the env with a `Monitor` wrapper\n",
      "Wrapping the env in a DummyVecEnv.\n"
     ]
    }
   ],
   "source": [
    "model = PPO.load(shower_path,env)"
   ]
  },
  {
   "cell_type": "code",
   "execution_count": 119,
   "id": "b66e39dd",
   "metadata": {},
   "outputs": [
    {
     "data": {
      "text/plain": [
       "(np.float64(12.0), np.float64(58.787753826796276))"
      ]
     },
     "execution_count": 119,
     "metadata": {},
     "output_type": "execute_result"
    }
   ],
   "source": [
    "evaluate_policy(model, env, n_eval_episodes=10,render=True)"
   ]
  }
 ],
 "metadata": {
  "kernelspec": {
   "display_name": "Python 3",
   "language": "python",
   "name": "python3"
  },
  "language_info": {
   "codemirror_mode": {
    "name": "ipython",
    "version": 3
   },
   "file_extension": ".py",
   "mimetype": "text/x-python",
   "name": "python",
   "nbconvert_exporter": "python",
   "pygments_lexer": "ipython3",
   "version": "3.10.12"
  }
 },
 "nbformat": 4,
 "nbformat_minor": 5
}
